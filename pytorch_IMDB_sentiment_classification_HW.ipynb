{
 "cells": [
  {
   "cell_type": "code",
   "execution_count": null,
   "metadata": {},
   "outputs": [],
   "source": [
    "from keras.datasets import imdb\n",
    "from keras.preprocessing import sequence\n",
    "import torch\n",
    "device = torch.device('cuda' if torch.cuda.is_available() else 'cpu')"
   ]
  },
  {
   "cell_type": "code",
   "execution_count": null,
   "metadata": {},
   "outputs": [],
   "source": [
    "vocab_size = 1000\n",
    "# cut texts after this number of words (among top max_features most common words)\n",
    "sentence_max_lenght = 150\n"
   ]
  },
  {
   "cell_type": "code",
   "execution_count": null,
   "metadata": {},
   "outputs": [],
   "source": [
    "print('Loading data...')\n",
    "(x_train, y_train), (x_test, y_test) = imdb.load_data(num_words=vocab_size)\n",
    "\n",
    "                                                             \n",
    "print(len(x_train), 'train sequences')\n",
    "print(len(x_test), 'test sequences')\n",
    "\n",
    "print('Pad sequences (samples x time)')\n",
    "x_train = sequence.pad_sequences(x_train, maxlen=sentence_max_lenght, padding='pre')\n",
    "x_test = sequence.pad_sequences(x_test, maxlen=sentence_max_lenght)\n",
    "print('x_train shape:', x_train.shape)\n",
    "print('x_test shape:', x_test.shape)\n",
    "print('labels of y_train', set(y_train))\n",
    "\n",
    "x_train, y_train = torch.LongTensor(x_train).to(device), torch.FloatTensor(y_train).to(device)\n",
    "x_test, y_test = torch.LongTensor(x_test).to(device), torch.FloatTensor(y_test).to(device)"
   ]
  },
  {
   "cell_type": "code",
   "execution_count": null,
   "metadata": {},
   "outputs": [],
   "source": [
    "class Net4IMDB(torch.nn.Module):\n",
    "    def __init__(self, vocab_size,\n",
    "                 embedding_size,\n",
    "                 hidden_size,\n",
    "                 output_size):\n",
    "        super(Net4IMDB, self).__init__()\n",
    "        # write your model component at here\n",
    "\n",
    "    def forward(self, x):\n",
    "        # write model forward at here\n",
    "        \n",
    "        return "
   ]
  },
  {
   "cell_type": "code",
   "execution_count": null,
   "metadata": {},
   "outputs": [],
   "source": [
    "embedding_size = 200\n",
    "hidden_size = 200\n",
    "output_size = 1\n",
    "print('Build model')\n",
    "model = Net4IMDB(vocab_size, \n",
    "                            embedding_size, \n",
    "                            hidden_size, \n",
    "                            output_size).to(device)\n",
    "print(model)\n",
    "criterion = torch.nn.BCEWithLogitsLoss()\n",
    "optimizer = torch.optim.SGD(model.parameters(), \n",
    "                            lr=1e-1)"
   ]
  },
  {
   "cell_type": "code",
   "execution_count": null,
   "metadata": {},
   "outputs": [],
   "source": [
    "def binary_accuracy(preds, y):\n",
    "    #round predictions to the closest integer\n",
    "    rounded_preds = torch.round(torch.sigmoid(preds))\n",
    "    correct = (rounded_preds == y).float() #convert into float for division \n",
    "    acc = correct.sum()/len(correct)\n",
    "    return acc"
   ]
  },
  {
   "cell_type": "code",
   "execution_count": null,
   "metadata": {},
   "outputs": [],
   "source": [
    "epochs = 100\n",
    "batch_size = 2000\n",
    "x_train_batch = torch.split(x_train, batch_size, dim=0)\n",
    "y_train_batch = torch.split(y_train, batch_size, dim=0)\n",
    "for epoch in range(epochs):\n",
    "    for i,(x,y) in enumerate(zip(x_train_batch, y_train_batch)):\n",
    "        y_pred = model.forward(x).squeeze(1)\n",
    "        loss = criterion(y_pred, y)\n",
    "        accuracy = binary_accuracy(y_pred, y)\n",
    "        print('epoch %d | step %d | loss %.4f | accuacy %.2f'%(epoch, i, loss.item(), accuracy.item()), end='\\r')\n",
    "\n",
    "        optimizer.zero_grad()\n",
    "        loss.backward()\n",
    "        optimizer.step()"
   ]
  },
  {
   "cell_type": "code",
   "execution_count": null,
   "metadata": {},
   "outputs": [],
   "source": [
    "with torch.no_grad():\n",
    "    y_pred = model.forward(x_test).squeeze(1)\n",
    "    binary_accuracy(y_pred, y_test)\n",
    "    print('accuracy on test: %.4f'%(accuracy))"
   ]
  },
  {
   "cell_type": "code",
   "execution_count": null,
   "metadata": {},
   "outputs": [],
   "source": []
  },
  {
   "cell_type": "code",
   "execution_count": null,
   "metadata": {},
   "outputs": [],
   "source": []
  }
 ],
 "metadata": {
  "kernelspec": {
   "display_name": "Python 3",
   "language": "python",
   "name": "python3"
  },
  "language_info": {
   "codemirror_mode": {
    "name": "ipython",
    "version": 3
   },
   "file_extension": ".py",
   "mimetype": "text/x-python",
   "name": "python",
   "nbconvert_exporter": "python",
   "pygments_lexer": "ipython3",
   "version": "3.7.1"
  }
 },
 "nbformat": 4,
 "nbformat_minor": 2
}
