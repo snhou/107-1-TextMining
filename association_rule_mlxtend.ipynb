{
 "cells": [
  {
   "cell_type": "markdown",
   "metadata": {},
   "source": [
    "# Association Rules Generation from Frequent Itemsets\n",
    "* Function to generate association rules from frequent itemsets\n",
    "* Reference: https://rasbt.github.io/mlxtend/user_guide/frequent_patterns/association_rules/\n",
    "\n",
    "## Metrics\n",
    "\n",
    "- 'support':\n",
    "    support(A→C)=support(A∪C),range: [0,1]\n",
    "\n",
    "- 'confidence':\n",
    "    confidence(A→C)=support(A→C)/support(A),range: [0,1]\n",
    "\n",
    "- 'lift':\n",
    "    lift(A→C)=confidence(A→C)/support(C),range: [0,∞]\n",
    "\n",
    "- 'leverage':\n",
    "    levarage(A→C)=support(A→C)−support(A)*support(C),range: [−1,1]\n",
    "\n",
    "- 'conviction':\n",
    "    onviction(A→C)=1−support(C)/1−confidence(A→C),range: [0,∞]\n",
    "    \n",
    "    "
   ]
  },
  {
   "cell_type": "code",
   "execution_count": null,
   "metadata": {},
   "outputs": [],
   "source": [
    "import pandas as pd\n",
    "from mlxtend.preprocessing import TransactionEncoder\n",
    "from mlxtend.frequent_patterns import apriori\n",
    "from mlxtend.frequent_patterns import association_rules"
   ]
  },
  {
   "cell_type": "code",
   "execution_count": null,
   "metadata": {},
   "outputs": [],
   "source": [
    "dataset = [['Milk', 'Onion', 'Nutmeg', 'Kidney Beans', 'Eggs', 'Yogurt'],\n",
    "           ['Dill', 'Onion', 'Nutmeg', 'Kidney Beans', 'Eggs', 'Yogurt'],\n",
    "           ['Milk', 'Apple', 'Kidney Beans', 'Eggs'],\n",
    "           ['Milk', 'Unicorn', 'Corn', 'Kidney Beans', 'Yogurt'],\n",
    "           ['Corn', 'Onion', 'Onion', 'Kidney Beans', 'Ice cream', 'Eggs']]\n",
    "\n",
    "te = TransactionEncoder()\n",
    "te_ary = te.fit(dataset).transform(dataset)\n",
    "df = pd.DataFrame(te_ary, columns=te.columns_)\n",
    "frequent_itemsets = apriori(df, min_support=0.6, use_colnames=True)\n",
    "print(frequent_itemsets)"
   ]
  },
  {
   "cell_type": "markdown",
   "metadata": {},
   "source": [
    "# Example 1 -- Generating Association Rules from Frequent Itemsets\n"
   ]
  },
  {
   "cell_type": "code",
   "execution_count": null,
   "metadata": {},
   "outputs": [],
   "source": [
    "rules_by_conf = association_rules(frequent_itemsets, metric=\"confidence\", min_threshold=0.7)\n",
    "print(rules_by_conf)"
   ]
  },
  {
   "cell_type": "markdown",
   "metadata": {},
   "source": [
    "# Example 2 -- Rule Generation and Selection Criteria\n"
   ]
  },
  {
   "cell_type": "code",
   "execution_count": null,
   "metadata": {},
   "outputs": [],
   "source": [
    "rules_by_lift = association_rules(frequent_itemsets, metric=\"lift\", min_threshold=1.2)\n",
    "print(rules_by_lift)"
   ]
  },
  {
   "cell_type": "markdown",
   "metadata": {},
   "source": [
    "## Filter the results\n",
    "Let's say we are ony interested in rules that satisfy the following criteria:\n",
    "- at least 2 antecedents\n",
    "- a confidence > 0.75\n",
    "- a lift score > 1.2\n",
    "We could compute the antecedent length as follows:"
   ]
  },
  {
   "cell_type": "code",
   "execution_count": null,
   "metadata": {},
   "outputs": [],
   "source": [
    "rules_by_lift[\"antecedent_len\"] = rules_by_lift[\"antecedents\"].apply(lambda x: len(x))\n",
    "rules_by_lift[ (rules_by_lift['antecedent_len'] >= 2) &\n",
    "               (rules_by_lift['confidence'] > 0.75) &\n",
    "               (rules_by_lift['lift'] > 1.2) ]"
   ]
  }
 ],
 "metadata": {
  "kernelspec": {
   "display_name": "Python 3",
   "language": "python",
   "name": "python3"
  },
  "language_info": {
   "codemirror_mode": {
    "name": "ipython",
    "version": 3
   },
   "file_extension": ".py",
   "mimetype": "text/x-python",
   "name": "python",
   "nbconvert_exporter": "python",
   "pygments_lexer": "ipython3",
   "version": "3.7.1"
  }
 },
 "nbformat": 4,
 "nbformat_minor": 2
}
